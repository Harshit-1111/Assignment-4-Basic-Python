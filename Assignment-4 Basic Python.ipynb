{
 "cells": [
  {
   "cell_type": "code",
   "execution_count": null,
   "id": "b8f26c79",
   "metadata": {},
   "outputs": [],
   "source": [
    "#Q1 What exactly is []?\n",
    "Ans With the help of square brackets we denote a LIST in python\n",
    "    For example l=[1,2,3,4,5]"
   ]
  },
  {
   "cell_type": "code",
   "execution_count": 1,
   "id": "60013e1f",
   "metadata": {},
   "outputs": [
    {
     "data": {
      "text/plain": [
       "6"
      ]
     },
     "execution_count": 1,
     "metadata": {},
     "output_type": "execute_result"
    }
   ],
   "source": [
    "\"\"\"Q2 In a list of values stored in a variable called spam, how would you assign the value \"hello\" as the\n",
    "    third value? (Assume [2, 4, 6, 8, 10] are in spam.)\"\"\"\n",
    "#Ans \n",
    "spam= [2,4,6,8,10]\n",
    "spam[2]"
   ]
  },
  {
   "cell_type": "code",
   "execution_count": 2,
   "id": "55b67822",
   "metadata": {},
   "outputs": [
    {
     "data": {
      "text/plain": [
       "[2, 4, 'hello', 8, 10]"
      ]
     },
     "execution_count": 2,
     "metadata": {},
     "output_type": "execute_result"
    }
   ],
   "source": [
    "spam[2]= \"hello\"\n",
    "spam"
   ]
  },
  {
   "cell_type": "code",
   "execution_count": 8,
   "id": "045d9742",
   "metadata": {},
   "outputs": [],
   "source": [
    "spam= ['a','b','c','d']"
   ]
  },
  {
   "cell_type": "code",
   "execution_count": 9,
   "id": "cccd155e",
   "metadata": {},
   "outputs": [
    {
     "data": {
      "text/plain": [
       "'d'"
      ]
     },
     "execution_count": 9,
     "metadata": {},
     "output_type": "execute_result"
    }
   ],
   "source": [
    "#Q3 What is the value of spam[int(int('3' * 2) / 11)]?\n",
    "spam[int(int('3'*2)/11)]"
   ]
  },
  {
   "cell_type": "code",
   "execution_count": 10,
   "id": "dffc0e89",
   "metadata": {},
   "outputs": [
    {
     "data": {
      "text/plain": [
       "'d'"
      ]
     },
     "execution_count": 10,
     "metadata": {},
     "output_type": "execute_result"
    }
   ],
   "source": [
    "#Q4 What is the value of spam[-1]?\n",
    "spam[-1]"
   ]
  },
  {
   "cell_type": "code",
   "execution_count": 11,
   "id": "5b111ce5",
   "metadata": {},
   "outputs": [
    {
     "data": {
      "text/plain": [
       "['a', 'b']"
      ]
     },
     "execution_count": 11,
     "metadata": {},
     "output_type": "execute_result"
    }
   ],
   "source": [
    "#Q5 What is the value of spam[:2]?\n",
    "spam[:2]"
   ]
  },
  {
   "cell_type": "code",
   "execution_count": 13,
   "id": "0980c322",
   "metadata": {},
   "outputs": [],
   "source": [
    "bacon= [3.14,'cat',11,'cat',True]"
   ]
  },
  {
   "cell_type": "code",
   "execution_count": 14,
   "id": "e117e017",
   "metadata": {},
   "outputs": [
    {
     "data": {
      "text/plain": [
       "1"
      ]
     },
     "execution_count": 14,
     "metadata": {},
     "output_type": "execute_result"
    }
   ],
   "source": [
    "#Q6 What is the value of bacon.index('cat')?\n",
    "bacon.index('cat')"
   ]
  },
  {
   "cell_type": "code",
   "execution_count": 15,
   "id": "48bb9298",
   "metadata": {},
   "outputs": [],
   "source": [
    "#Q7 How does bacon.append(99) change the look of the list value in bacon?\n",
    "bacon.append(99)\n",
    "#after writing bacon.append(99) 99 will be added in the list at the last place"
   ]
  },
  {
   "cell_type": "code",
   "execution_count": 16,
   "id": "b07cee2e",
   "metadata": {},
   "outputs": [
    {
     "data": {
      "text/plain": [
       "[3.14, 'cat', 11, 'cat', True, 99]"
      ]
     },
     "execution_count": 16,
     "metadata": {},
     "output_type": "execute_result"
    }
   ],
   "source": [
    "bacon"
   ]
  },
  {
   "cell_type": "code",
   "execution_count": 17,
   "id": "86037f1c",
   "metadata": {},
   "outputs": [],
   "source": [
    "#Q8 How does bacon.remove('cat') change the look of the list in bacon?\n",
    "bacon.remove('cat')"
   ]
  },
  {
   "cell_type": "code",
   "execution_count": 18,
   "id": "7eae0b59",
   "metadata": {},
   "outputs": [
    {
     "data": {
      "text/plain": [
       "[3.14, 11, 'cat', True, 99]"
      ]
     },
     "execution_count": 18,
     "metadata": {},
     "output_type": "execute_result"
    }
   ],
   "source": [
    "bacon"
   ]
  },
  {
   "cell_type": "code",
   "execution_count": null,
   "id": "83c98a47",
   "metadata": {},
   "outputs": [],
   "source": [
    "#Q9 What are the list concatenation and list replication operators?\n",
    "Ans The operator for list concatenation is +, while the operator for replication is *."
   ]
  },
  {
   "cell_type": "code",
   "execution_count": 19,
   "id": "17dbe358",
   "metadata": {},
   "outputs": [],
   "source": [
    "#Q10 What is difference between the list methods append() and insert()?\n",
    "#Ans append() will add the value towards the end in the list while using insert() we can add data in specific index. For ex\n",
    "l=[1,2,3]\n",
    "l.append(\"Hello Sudhanshu\")"
   ]
  },
  {
   "cell_type": "code",
   "execution_count": 20,
   "id": "c88c02b3",
   "metadata": {},
   "outputs": [
    {
     "data": {
      "text/plain": [
       "[1, 2, 3, 'Hello Sudhanshu']"
      ]
     },
     "execution_count": 20,
     "metadata": {},
     "output_type": "execute_result"
    }
   ],
   "source": [
    "l"
   ]
  },
  {
   "cell_type": "code",
   "execution_count": 21,
   "id": "a3bc6a59",
   "metadata": {},
   "outputs": [],
   "source": [
    "l.insert(1,\"Hello i nueron\")"
   ]
  },
  {
   "cell_type": "code",
   "execution_count": 22,
   "id": "fe362760",
   "metadata": {},
   "outputs": [
    {
     "data": {
      "text/plain": [
       "[1, 'Hello i nueron', 2, 3, 'Hello Sudhanshu']"
      ]
     },
     "execution_count": 22,
     "metadata": {},
     "output_type": "execute_result"
    }
   ],
   "source": [
    "l"
   ]
  },
  {
   "cell_type": "code",
   "execution_count": null,
   "id": "27247411",
   "metadata": {},
   "outputs": [],
   "source": [
    "#Q11 What are the two methods for removing items from a list?\n",
    "Ans The two methods are remove() and pop()"
   ]
  },
  {
   "cell_type": "code",
   "execution_count": null,
   "id": "3a2d8ddd",
   "metadata": {},
   "outputs": [],
   "source": [
    "#Q12 Describe how list values and string values are identical.\n",
    "Ans The similarity between Lists and Strings in Python is that both are sequences. The differences between them are that firstly,\n",
    "    Lists are mutable but Strings are immutable.\n",
    " Secondly, elements of a list can be of different types whereas a String only contains characters that are all of String type."
   ]
  },
  {
   "cell_type": "code",
   "execution_count": null,
   "id": "dd5325df",
   "metadata": {},
   "outputs": [],
   "source": [
    "#Q13 What is the difference between tuples and lists?\n",
    "And The difference between the tuples and lists is that while the tuples are immutable objects the lists are mutable.\n",
    "    This means that tuples cannot be changed while the lists can be modified"
   ]
  },
  {
   "cell_type": "code",
   "execution_count": 24,
   "id": "73415e5e",
   "metadata": {},
   "outputs": [
    {
     "data": {
      "text/plain": [
       "tuple"
      ]
     },
     "execution_count": 24,
     "metadata": {},
     "output_type": "execute_result"
    }
   ],
   "source": [
    "#Q14 How do you type a tuple value that only contains the integer 42?\n",
    "t=(42,)\n",
    "type(t)"
   ]
  },
  {
   "cell_type": "code",
   "execution_count": 28,
   "id": "d9f5fc2d",
   "metadata": {},
   "outputs": [
    {
     "data": {
      "text/plain": [
       "(1, 2, 3, 'Hello')"
      ]
     },
     "execution_count": 28,
     "metadata": {},
     "output_type": "execute_result"
    }
   ],
   "source": [
    "#Q15 How do you get a list value in tuple form? How do you get a tuple value in list form?\n",
    "#Ans\n",
    "l=[1,2,3,\"Hello\"]\n",
    "tuple(l)"
   ]
  },
  {
   "cell_type": "code",
   "execution_count": 29,
   "id": "e6a9d02f",
   "metadata": {},
   "outputs": [
    {
     "data": {
      "text/plain": [
       "[1, 2, 3, 'aa']"
      ]
     },
     "execution_count": 29,
     "metadata": {},
     "output_type": "execute_result"
    }
   ],
   "source": [
    "t=(1,2,3,\"aa\")\n",
    "list(t)"
   ]
  },
  {
   "cell_type": "code",
   "execution_count": null,
   "id": "aa9b69ed",
   "metadata": {},
   "outputs": [],
   "source": []
  }
 ],
 "metadata": {
  "kernelspec": {
   "display_name": "Python 3 (ipykernel)",
   "language": "python",
   "name": "python3"
  },
  "language_info": {
   "codemirror_mode": {
    "name": "ipython",
    "version": 3
   },
   "file_extension": ".py",
   "mimetype": "text/x-python",
   "name": "python",
   "nbconvert_exporter": "python",
   "pygments_lexer": "ipython3",
   "version": "3.9.7"
  }
 },
 "nbformat": 4,
 "nbformat_minor": 5
}
